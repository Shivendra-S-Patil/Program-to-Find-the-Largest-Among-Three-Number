{
 "cells": [
  {
   "cell_type": "code",
   "execution_count": 1,
   "id": "40feeab0",
   "metadata": {},
   "outputs": [],
   "source": [
    "#Variables are pre-defined"
   ]
  },
  {
   "cell_type": "code",
   "execution_count": 8,
   "id": "59181102",
   "metadata": {},
   "outputs": [
    {
     "name": "stdout",
     "output_type": "stream",
     "text": [
      "33 is a largest mumber\n"
     ]
    }
   ],
   "source": [
    "num1 = 11 # three variables num1, num2, and num3 are initialized with the values 11, 22, and 33, respectively.\n",
    "num2 = 22\n",
    "num3 = 33\n",
    "\n",
    "if (num1 > num2) and (num1 > num3): #This line checks if num1 is greater than both num2 and num3. If this condition is true, it means num1 is the largest number.\n",
    "    print(num1, \"is a largest mumber\") # This line prints a message indicating that num1 is the largest number.\n",
    "elif (num2 > num1) and (num2 > num3): #This line checks if num2 is greater than both num1 and num3. If this condition is true, it means num2 is the largest number.\n",
    "    print(num2, \"is a largest mumber\") #This line prints a message indicating that num2 is the largest number.\n",
    "else: #If none of the above conditions are true, it means that num3 is the largest number.\n",
    "    print(num3, \"is a largest mumber\") #This line prints a message indicating that num3 is the largest number."
   ]
  },
  {
   "cell_type": "code",
   "execution_count": 9,
   "id": "6f12bc9b",
   "metadata": {},
   "outputs": [],
   "source": [
    "#Variables are not pre-defined"
   ]
  },
  {
   "cell_type": "code",
   "execution_count": 10,
   "id": "7d26c582",
   "metadata": {},
   "outputs": [
    {
     "name": "stdout",
     "output_type": "stream",
     "text": [
      "Enter the number: 55\n",
      "Enter the number: 66\n",
      "Enter the number: 11\n",
      "66.0 is a largest mumber\n"
     ]
    }
   ],
   "source": [
    "num1 = float(input(\"Enter the number: \")) #This line prompts the user to enter the first number and converts it to a floating-point number for comparison.\n",
    "num2 = float(input(\"Enter the number: \")) #This line prompts the user to enter the first number and converts it to a floating-point number for comparison.\n",
    "num3 = float(input(\"Enter the number: \")) #This line prompts the user to enter the first number and converts it to a floating-point number for comparison.\n",
    "\n",
    "if (num1 > num2) and (num1 > num3): #This line checks if num1 is greater than both num2 and num3. If this condition is true, it means num1 is the largest number.\n",
    "    print(num1, \"is a largest mumber\") # This line prints a message indicating that num1 is the largest number.\n",
    "elif (num2 > num1) and (num2 > num3): #This line checks if num2 is greater than both num1 and num3. If this condition is true, it means num2 is the largest number.\n",
    "    print(num2, \"is a largest mumber\") #This line prints a message indicating that num2 is the largest number.\n",
    "else: #If none of the above conditions are true, it means that num3 is the largest number.\n",
    "    print(num3, \"is a largest mumber\") #This line prints a message indicating that num3 is the largest number."
   ]
  },
  {
   "cell_type": "code",
   "execution_count": null,
   "id": "b8735310",
   "metadata": {},
   "outputs": [],
   "source": []
  }
 ],
 "metadata": {
  "kernelspec": {
   "display_name": "Python 3 (ipykernel)",
   "language": "python",
   "name": "python3"
  },
  "language_info": {
   "codemirror_mode": {
    "name": "ipython",
    "version": 3
   },
   "file_extension": ".py",
   "mimetype": "text/x-python",
   "name": "python",
   "nbconvert_exporter": "python",
   "pygments_lexer": "ipython3",
   "version": "3.9.13"
  }
 },
 "nbformat": 4,
 "nbformat_minor": 5
}
